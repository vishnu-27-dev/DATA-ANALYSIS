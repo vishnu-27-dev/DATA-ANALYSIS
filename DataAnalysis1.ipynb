{
  "nbformat": 4,
  "nbformat_minor": 0,
  "metadata": {
    "colab": {
      "name": "DataAnalysis1.ipynb",
      "provenance": [],
      "collapsed_sections": [],
      "authorship_tag": "ABX9TyNeGfCojD+bd4C/dIRtanSx",
      "include_colab_link": true
    },
    "kernelspec": {
      "name": "python3",
      "display_name": "Python 3"
    },
    "language_info": {
      "name": "python"
    }
  },
  "cells": [
    {
      "cell_type": "markdown",
      "metadata": {
        "id": "view-in-github",
        "colab_type": "text"
      },
      "source": [
        "<a href=\"https://colab.research.google.com/github/vishnu-27-dev/DATA-ANALYSIS/blob/main/DataAnalysis1.ipynb\" target=\"_parent\"><img src=\"https://colab.research.google.com/assets/colab-badge.svg\" alt=\"Open In Colab\"/></a>"
      ]
    },
    {
      "cell_type": "code",
      "execution_count": null,
      "metadata": {
        "id": "yQKNMqO3wS3c"
      },
      "outputs": [],
      "source": [
        "#import required libraries\n",
        "import pandas as pd\n",
        "import numpy as np\n",
        "import matplotlib.pyplot as plt"
      ]
    },
    {
      "cell_type": "code",
      "source": [
        "#Load the csv file into pandas dataframe\n",
        "car = pd.read_csv(\"/content/cars_engage_2022.csv\")\n",
        "car.head()"
      ],
      "metadata": {
        "colab": {
          "base_uri": "https://localhost:8080/",
          "height": 499
        },
        "id": "BeOTDmtiw-sg",
        "outputId": "78a0c391-9870-4104-8200-659631056a30"
      },
      "execution_count": null,
      "outputs": [
        {
          "output_type": "execute_result",
          "data": {
            "text/plain": [
              "   Unnamed: 0  Make      Model  Variant Ex-Showroom_Price Displacement  \\\n",
              "0           0  Tata  Nano Genx       Xt          2,92,667       624 cc   \n",
              "1           1  Tata  Nano Genx       Xe          2,36,447       624 cc   \n",
              "2           2  Tata  Nano Genx  Emax Xm      Rs. 2,96,661       624 cc   \n",
              "3           3  Tata  Nano Genx      Xta      Rs. 3,34,768       624 cc   \n",
              "4           4  Tata  Nano Genx       Xm      Rs. 2,72,223       624 cc   \n",
              "\n",
              "   Cylinders  Valves_Per_Cylinder              Drivetrain  \\\n",
              "0        2.0                  2.0  RWD (Rear Wheel Drive)   \n",
              "1        2.0                  2.0  RWD (Rear Wheel Drive)   \n",
              "2        2.0                  2.0  RWD (Rear Wheel Drive)   \n",
              "3        2.0                  2.0  RWD (Rear Wheel Drive)   \n",
              "4        2.0                  2.0  RWD (Rear Wheel Drive)   \n",
              "\n",
              "  Cylinder_Configuration  ... USB_Compatibility Android_Auto Apple_CarPlay  \\\n",
              "0                In-line  ...               NaN          NaN           NaN   \n",
              "1                In-line  ...               NaN          NaN           NaN   \n",
              "2                In-line  ...               NaN          NaN           NaN   \n",
              "3                In-line  ...               NaN          NaN           NaN   \n",
              "4                In-line  ...               NaN          NaN           NaN   \n",
              "\n",
              "  Unnamed: 112 Infotainment_Screen Multifunction_Steering_Wheel Average_Speed  \\\n",
              "0          NaN                 NaN                          NaN           NaN   \n",
              "1          NaN                 NaN                          NaN           NaN   \n",
              "2          NaN                 NaN                          NaN           NaN   \n",
              "3          NaN                 NaN                          NaN           NaN   \n",
              "4          NaN                 NaN                          NaN           NaN   \n",
              "\n",
              "  EBA_(Electronic_Brake_Assist) Seat_Height_Adjustment  Navigation_System  \n",
              "0                           NaN                    NaN                NaN  \n",
              "1                           NaN                    NaN                NaN  \n",
              "2                           NaN                    NaN                NaN  \n",
              "3                           NaN                    NaN                NaN  \n",
              "4                           NaN                    NaN                NaN  \n",
              "\n",
              "[5 rows x 119 columns]"
            ],
            "text/html": [
              "\n",
              "  <div id=\"df-cd7fb4eb-9f3e-49c8-8a48-67e79623f6c4\">\n",
              "    <div class=\"colab-df-container\">\n",
              "      <div>\n",
              "<style scoped>\n",
              "    .dataframe tbody tr th:only-of-type {\n",
              "        vertical-align: middle;\n",
              "    }\n",
              "\n",
              "    .dataframe tbody tr th {\n",
              "        vertical-align: top;\n",
              "    }\n",
              "\n",
              "    .dataframe thead th {\n",
              "        text-align: right;\n",
              "    }\n",
              "</style>\n",
              "<table border=\"1\" class=\"dataframe\">\n",
              "  <thead>\n",
              "    <tr style=\"text-align: right;\">\n",
              "      <th></th>\n",
              "      <th>Unnamed: 0</th>\n",
              "      <th>Make</th>\n",
              "      <th>Model</th>\n",
              "      <th>Variant</th>\n",
              "      <th>Ex-Showroom_Price</th>\n",
              "      <th>Displacement</th>\n",
              "      <th>Cylinders</th>\n",
              "      <th>Valves_Per_Cylinder</th>\n",
              "      <th>Drivetrain</th>\n",
              "      <th>Cylinder_Configuration</th>\n",
              "      <th>...</th>\n",
              "      <th>USB_Compatibility</th>\n",
              "      <th>Android_Auto</th>\n",
              "      <th>Apple_CarPlay</th>\n",
              "      <th>Unnamed: 112</th>\n",
              "      <th>Infotainment_Screen</th>\n",
              "      <th>Multifunction_Steering_Wheel</th>\n",
              "      <th>Average_Speed</th>\n",
              "      <th>EBA_(Electronic_Brake_Assist)</th>\n",
              "      <th>Seat_Height_Adjustment</th>\n",
              "      <th>Navigation_System</th>\n",
              "    </tr>\n",
              "  </thead>\n",
              "  <tbody>\n",
              "    <tr>\n",
              "      <th>0</th>\n",
              "      <td>0</td>\n",
              "      <td>Tata</td>\n",
              "      <td>Nano Genx</td>\n",
              "      <td>Xt</td>\n",
              "      <td>2,92,667</td>\n",
              "      <td>624 cc</td>\n",
              "      <td>2.0</td>\n",
              "      <td>2.0</td>\n",
              "      <td>RWD (Rear Wheel Drive)</td>\n",
              "      <td>In-line</td>\n",
              "      <td>...</td>\n",
              "      <td>NaN</td>\n",
              "      <td>NaN</td>\n",
              "      <td>NaN</td>\n",
              "      <td>NaN</td>\n",
              "      <td>NaN</td>\n",
              "      <td>NaN</td>\n",
              "      <td>NaN</td>\n",
              "      <td>NaN</td>\n",
              "      <td>NaN</td>\n",
              "      <td>NaN</td>\n",
              "    </tr>\n",
              "    <tr>\n",
              "      <th>1</th>\n",
              "      <td>1</td>\n",
              "      <td>Tata</td>\n",
              "      <td>Nano Genx</td>\n",
              "      <td>Xe</td>\n",
              "      <td>2,36,447</td>\n",
              "      <td>624 cc</td>\n",
              "      <td>2.0</td>\n",
              "      <td>2.0</td>\n",
              "      <td>RWD (Rear Wheel Drive)</td>\n",
              "      <td>In-line</td>\n",
              "      <td>...</td>\n",
              "      <td>NaN</td>\n",
              "      <td>NaN</td>\n",
              "      <td>NaN</td>\n",
              "      <td>NaN</td>\n",
              "      <td>NaN</td>\n",
              "      <td>NaN</td>\n",
              "      <td>NaN</td>\n",
              "      <td>NaN</td>\n",
              "      <td>NaN</td>\n",
              "      <td>NaN</td>\n",
              "    </tr>\n",
              "    <tr>\n",
              "      <th>2</th>\n",
              "      <td>2</td>\n",
              "      <td>Tata</td>\n",
              "      <td>Nano Genx</td>\n",
              "      <td>Emax Xm</td>\n",
              "      <td>Rs. 2,96,661</td>\n",
              "      <td>624 cc</td>\n",
              "      <td>2.0</td>\n",
              "      <td>2.0</td>\n",
              "      <td>RWD (Rear Wheel Drive)</td>\n",
              "      <td>In-line</td>\n",
              "      <td>...</td>\n",
              "      <td>NaN</td>\n",
              "      <td>NaN</td>\n",
              "      <td>NaN</td>\n",
              "      <td>NaN</td>\n",
              "      <td>NaN</td>\n",
              "      <td>NaN</td>\n",
              "      <td>NaN</td>\n",
              "      <td>NaN</td>\n",
              "      <td>NaN</td>\n",
              "      <td>NaN</td>\n",
              "    </tr>\n",
              "    <tr>\n",
              "      <th>3</th>\n",
              "      <td>3</td>\n",
              "      <td>Tata</td>\n",
              "      <td>Nano Genx</td>\n",
              "      <td>Xta</td>\n",
              "      <td>Rs. 3,34,768</td>\n",
              "      <td>624 cc</td>\n",
              "      <td>2.0</td>\n",
              "      <td>2.0</td>\n",
              "      <td>RWD (Rear Wheel Drive)</td>\n",
              "      <td>In-line</td>\n",
              "      <td>...</td>\n",
              "      <td>NaN</td>\n",
              "      <td>NaN</td>\n",
              "      <td>NaN</td>\n",
              "      <td>NaN</td>\n",
              "      <td>NaN</td>\n",
              "      <td>NaN</td>\n",
              "      <td>NaN</td>\n",
              "      <td>NaN</td>\n",
              "      <td>NaN</td>\n",
              "      <td>NaN</td>\n",
              "    </tr>\n",
              "    <tr>\n",
              "      <th>4</th>\n",
              "      <td>4</td>\n",
              "      <td>Tata</td>\n",
              "      <td>Nano Genx</td>\n",
              "      <td>Xm</td>\n",
              "      <td>Rs. 2,72,223</td>\n",
              "      <td>624 cc</td>\n",
              "      <td>2.0</td>\n",
              "      <td>2.0</td>\n",
              "      <td>RWD (Rear Wheel Drive)</td>\n",
              "      <td>In-line</td>\n",
              "      <td>...</td>\n",
              "      <td>NaN</td>\n",
              "      <td>NaN</td>\n",
              "      <td>NaN</td>\n",
              "      <td>NaN</td>\n",
              "      <td>NaN</td>\n",
              "      <td>NaN</td>\n",
              "      <td>NaN</td>\n",
              "      <td>NaN</td>\n",
              "      <td>NaN</td>\n",
              "      <td>NaN</td>\n",
              "    </tr>\n",
              "  </tbody>\n",
              "</table>\n",
              "<p>5 rows × 119 columns</p>\n",
              "</div>\n",
              "      <button class=\"colab-df-convert\" onclick=\"convertToInteractive('df-cd7fb4eb-9f3e-49c8-8a48-67e79623f6c4')\"\n",
              "              title=\"Convert this dataframe to an interactive table.\"\n",
              "              style=\"display:none;\">\n",
              "        \n",
              "  <svg xmlns=\"http://www.w3.org/2000/svg\" height=\"24px\"viewBox=\"0 0 24 24\"\n",
              "       width=\"24px\">\n",
              "    <path d=\"M0 0h24v24H0V0z\" fill=\"none\"/>\n",
              "    <path d=\"M18.56 5.44l.94 2.06.94-2.06 2.06-.94-2.06-.94-.94-2.06-.94 2.06-2.06.94zm-11 1L8.5 8.5l.94-2.06 2.06-.94-2.06-.94L8.5 2.5l-.94 2.06-2.06.94zm10 10l.94 2.06.94-2.06 2.06-.94-2.06-.94-.94-2.06-.94 2.06-2.06.94z\"/><path d=\"M17.41 7.96l-1.37-1.37c-.4-.4-.92-.59-1.43-.59-.52 0-1.04.2-1.43.59L10.3 9.45l-7.72 7.72c-.78.78-.78 2.05 0 2.83L4 21.41c.39.39.9.59 1.41.59.51 0 1.02-.2 1.41-.59l7.78-7.78 2.81-2.81c.8-.78.8-2.07 0-2.86zM5.41 20L4 18.59l7.72-7.72 1.47 1.35L5.41 20z\"/>\n",
              "  </svg>\n",
              "      </button>\n",
              "      \n",
              "  <style>\n",
              "    .colab-df-container {\n",
              "      display:flex;\n",
              "      flex-wrap:wrap;\n",
              "      gap: 12px;\n",
              "    }\n",
              "\n",
              "    .colab-df-convert {\n",
              "      background-color: #E8F0FE;\n",
              "      border: none;\n",
              "      border-radius: 50%;\n",
              "      cursor: pointer;\n",
              "      display: none;\n",
              "      fill: #1967D2;\n",
              "      height: 32px;\n",
              "      padding: 0 0 0 0;\n",
              "      width: 32px;\n",
              "    }\n",
              "\n",
              "    .colab-df-convert:hover {\n",
              "      background-color: #E2EBFA;\n",
              "      box-shadow: 0px 1px 2px rgba(60, 64, 67, 0.3), 0px 1px 3px 1px rgba(60, 64, 67, 0.15);\n",
              "      fill: #174EA6;\n",
              "    }\n",
              "\n",
              "    [theme=dark] .colab-df-convert {\n",
              "      background-color: #3B4455;\n",
              "      fill: #D2E3FC;\n",
              "    }\n",
              "\n",
              "    [theme=dark] .colab-df-convert:hover {\n",
              "      background-color: #434B5C;\n",
              "      box-shadow: 0px 1px 3px 1px rgba(0, 0, 0, 0.15);\n",
              "      filter: drop-shadow(0px 1px 2px rgba(0, 0, 0, 0.3));\n",
              "      fill: #FFFFFF;\n",
              "    }\n",
              "  </style>\n",
              "\n",
              "      <script>\n",
              "        const buttonEl =\n",
              "          document.querySelector('#df-cd7fb4eb-9f3e-49c8-8a48-67e79623f6c4 button.colab-df-convert');\n",
              "        buttonEl.style.display =\n",
              "          google.colab.kernel.accessAllowed ? 'block' : 'none';\n",
              "\n",
              "        async function convertToInteractive(key) {\n",
              "          const element = document.querySelector('#df-cd7fb4eb-9f3e-49c8-8a48-67e79623f6c4');\n",
              "          const dataTable =\n",
              "            await google.colab.kernel.invokeFunction('convertToInteractive',\n",
              "                                                     [key], {});\n",
              "          if (!dataTable) return;\n",
              "\n",
              "          const docLinkHtml = 'Like what you see? Visit the ' +\n",
              "            '<a target=\"_blank\" href=https://colab.research.google.com/notebooks/data_table.ipynb>data table notebook</a>'\n",
              "            + ' to learn more about interactive tables.';\n",
              "          element.innerHTML = '';\n",
              "          dataTable['output_type'] = 'display_data';\n",
              "          await google.colab.output.renderOutput(dataTable, element);\n",
              "          const docLink = document.createElement('div');\n",
              "          docLink.innerHTML = docLinkHtml;\n",
              "          element.appendChild(docLink);\n",
              "        }\n",
              "      </script>\n",
              "    </div>\n",
              "  </div>\n",
              "  "
            ]
          },
          "metadata": {},
          "execution_count": 2
        },
        {
          "output_type": "stream",
          "name": "stdout",
          "text": [
            "Warning: Total number of columns (119) exceeds max_columns (20) limiting to first (20) columns.\n"
          ]
        }
      ]
    },
    {
      "cell_type": "code",
      "source": [
        "#No.of data present\n",
        "car.shape"
      ],
      "metadata": {
        "colab": {
          "base_uri": "https://localhost:8080/"
        },
        "id": "1p4qc0X2xPEE",
        "outputId": "320f3629-d346-4a89-b134-7829b0752b92"
      },
      "execution_count": null,
      "outputs": [
        {
          "output_type": "execute_result",
          "data": {
            "text/plain": [
              "(1276, 119)"
            ]
          },
          "metadata": {},
          "execution_count": 3
        }
      ]
    },
    {
      "cell_type": "code",
      "source": [
        "car.info()"
      ],
      "metadata": {
        "colab": {
          "base_uri": "https://localhost:8080/"
        },
        "id": "ZgquUiAPxdc8",
        "outputId": "09ecaddd-99ad-4d8a-b338-f709f6be2ab3"
      },
      "execution_count": null,
      "outputs": [
        {
          "output_type": "stream",
          "name": "stdout",
          "text": [
            "<class 'pandas.core.frame.DataFrame'>\n",
            "RangeIndex: 1276 entries, 0 to 1275\n",
            "Columns: 119 entries, Unnamed: 0 to Navigation_System\n",
            "dtypes: float64(6), int64(1), object(112)\n",
            "memory usage: 1.2+ MB\n"
          ]
        }
      ]
    },
    {
      "cell_type": "code",
      "source": [
        "#Removing irrelevant features\n",
        "car = car.drop(['Front_Track','Rear_Track','Front_Tyre_&_Rim','Rear_Tyre_&_Rim','Tachometer','Seats_Material'],axis=1)"
      ],
      "metadata": {
        "id": "UA75PplnyBTg"
      },
      "execution_count": null,
      "outputs": []
    },
    {
      "cell_type": "code",
      "source": [
        "#Removing the duplicate Data\n",
        "car=car.drop_duplicates(subset='Model',keep='first')\n",
        "car.count()"
      ],
      "metadata": {
        "colab": {
          "base_uri": "https://localhost:8080/"
        },
        "id": "W9Wmfj8SzXyy",
        "outputId": "910af01d-64c3-480f-e355-222686209cd3"
      },
      "execution_count": null,
      "outputs": [
        {
          "output_type": "execute_result",
          "data": {
            "text/plain": [
              "Unnamed: 0                       263\n",
              "Make                             235\n",
              "Model                            263\n",
              "Variant                          263\n",
              "Ex-Showroom_Price                263\n",
              "                                ... \n",
              "Multifunction_Steering_Wheel     179\n",
              "Average_Speed                    176\n",
              "EBA_(Electronic_Brake_Assist)    158\n",
              "Seat_Height_Adjustment           189\n",
              "Navigation_System                153\n",
              "Length: 113, dtype: int64"
            ]
          },
          "metadata": {},
          "execution_count": 6
        }
      ]
    },
    {
      "cell_type": "code",
      "source": [
        "#Displaying the rows with no.of.null values\n",
        "print(car.isnull().sum())"
      ],
      "metadata": {
        "colab": {
          "base_uri": "https://localhost:8080/"
        },
        "id": "ucEqdcRpzgDo",
        "outputId": "77fb062b-0786-4410-a80c-9337b0fcd350"
      },
      "execution_count": null,
      "outputs": [
        {
          "output_type": "stream",
          "name": "stdout",
          "text": [
            "Unnamed: 0                         0\n",
            "Make                              28\n",
            "Model                              0\n",
            "Variant                            0\n",
            "Ex-Showroom_Price                  0\n",
            "                                ... \n",
            "Multifunction_Steering_Wheel      84\n",
            "Average_Speed                     87\n",
            "EBA_(Electronic_Brake_Assist)    105\n",
            "Seat_Height_Adjustment            74\n",
            "Navigation_System                110\n",
            "Length: 113, dtype: int64\n"
          ]
        }
      ]
    },
    {
      "cell_type": "markdown",
      "source": [
        "**QUALITY OF DATA**\n",
        "\n",
        "*   Ex-Showroom_Price has Rs. with int and have to convert object to int. \n",
        "*   Column \"Make\" has nan values, therefore nan are replaced by the values of column Model.\n",
        "\n",
        "*   Column Seating_Capacity has null values\n",
        "\n",
        "\n",
        "\n",
        "\n",
        "\n",
        "\n"
      ],
      "metadata": {
        "id": "O28F542gxy09"
      }
    },
    {
      "cell_type": "markdown",
      "source": [
        "**CLEANING OF DATA**"
      ],
      "metadata": {
        "id": "1wK6kum72GFg"
      }
    },
    {
      "cell_type": "code",
      "source": [
        "#backup the data\n",
        "backup = car.copy()"
      ],
      "metadata": {
        "id": "-Dlw_xrK1-c_"
      },
      "execution_count": null,
      "outputs": []
    },
    {
      "cell_type": "code",
      "source": [
        "car[\"Ex-Showroom_Price\"] = car[\"Ex-Showroom_Price\"].str.replace(r'.* ([\\d,]+)+$', r'\\1').str.replace(',', '').astype('int32')"
      ],
      "metadata": {
        "id": "kxLvqgnt3wkM",
        "colab": {
          "base_uri": "https://localhost:8080/"
        },
        "outputId": "61cdff2a-6fba-416d-b373-c22f020d2260"
      },
      "execution_count": null,
      "outputs": [
        {
          "output_type": "stream",
          "name": "stderr",
          "text": [
            "/usr/local/lib/python3.7/dist-packages/ipykernel_launcher.py:1: FutureWarning: The default value of regex will change from True to False in a future version.\n",
            "  \"\"\"Entry point for launching an IPython kernel.\n"
          ]
        }
      ]
    },
    {
      "cell_type": "code",
      "source": [
        "car['Ex-Showroom_Price']"
      ],
      "metadata": {
        "colab": {
          "base_uri": "https://localhost:8080/"
        },
        "id": "h3aO8SfzxwjI",
        "outputId": "ce1ca4eb-28a1-4c0f-be2a-b1cee92f03f0"
      },
      "execution_count": null,
      "outputs": [
        {
          "output_type": "execute_result",
          "data": {
            "text/plain": [
              "0         292667\n",
              "6         279650\n",
              "12        353290\n",
              "24        352136\n",
              "29        377588\n",
              "          ...   \n",
              "1255      748370\n",
              "1258     2903750\n",
              "1263    34167064\n",
              "1265      991000\n",
              "1275     6862560\n",
              "Name: Ex-Showroom_Price, Length: 263, dtype: int32"
            ]
          },
          "metadata": {},
          "execution_count": 10
        }
      ]
    },
    {
      "cell_type": "code",
      "source": [
        "#Replacing the NAN values in column Make with values in column Model\n",
        "car.Make.fillna(car.Model, inplace=True)"
      ],
      "metadata": {
        "id": "eUfhq9vu4MXZ"
      },
      "execution_count": null,
      "outputs": []
    },
    {
      "cell_type": "code",
      "source": [
        "#finding the rows which have Seating_Capacity as null values\n",
        "car[car['Seating_Capacity'].isna()]"
      ],
      "metadata": {
        "colab": {
          "base_uri": "https://localhost:8080/",
          "height": 323
        },
        "id": "wjeNnoZtRjVn",
        "outputId": "c5f2fe3a-c593-4fe9-bc60-45b906a3fc0d"
      },
      "execution_count": null,
      "outputs": [
        {
          "output_type": "execute_result",
          "data": {
            "text/plain": [
              "      Unnamed: 0      Make          Model            Variant  \\\n",
              "239          239  Mahindra     Alturas G4             2Wd At   \n",
              "1162        1162    Jaguar         F-Type  5.0 Convertible R   \n",
              "1253        1253   Porsche  Cayenne Coupe               Base   \n",
              "\n",
              "      Ex-Showroom_Price Displacement  Cylinders  Valves_Per_Cylinder  \\\n",
              "239             2770150      2157 cc        4.0                  NaN   \n",
              "1162           23659454      5000 cc        NaN                  NaN   \n",
              "1253           13151000      2995 cc        6.0                  4.0   \n",
              "\n",
              "                   Drivetrain Cylinder_Configuration  ... USB_Compatibility  \\\n",
              "239   FWD (Front Wheel Drive)                In-line  ...               Yes   \n",
              "1162                      NaN                    NaN  ...               NaN   \n",
              "1253    AWD (All Wheel Drive)                      V  ...               Yes   \n",
              "\n",
              "     Android_Auto Apple_CarPlay Unnamed: 112 Infotainment_Screen  \\\n",
              "239           NaN           NaN          NaN     Touch Sensitive   \n",
              "1162          NaN           NaN          NaN                 NaN   \n",
              "1253          Yes           Yes          NaN     Touch Sensitive   \n",
              "\n",
              "      Multifunction_Steering_Wheel Average_Speed  \\\n",
              "239   Multifunction Steering Wheel           Yes   \n",
              "1162  Multifunction Steering Wheel           NaN   \n",
              "1253       With gear shift paddles           Yes   \n",
              "\n",
              "     EBA_(Electronic_Brake_Assist)           Seat_Height_Adjustment  \\\n",
              "239                            Yes  Electric Adjustment with Memory   \n",
              "1162                           NaN                              NaN   \n",
              "1253                           Yes  Electric Adjustment with Memory   \n",
              "\n",
              "      Navigation_System  \n",
              "239                 Yes  \n",
              "1162                Yes  \n",
              "1253                Yes  \n",
              "\n",
              "[3 rows x 113 columns]"
            ],
            "text/html": [
              "\n",
              "  <div id=\"df-ea27b146-61a4-4bac-96ab-f30d213f6354\">\n",
              "    <div class=\"colab-df-container\">\n",
              "      <div>\n",
              "<style scoped>\n",
              "    .dataframe tbody tr th:only-of-type {\n",
              "        vertical-align: middle;\n",
              "    }\n",
              "\n",
              "    .dataframe tbody tr th {\n",
              "        vertical-align: top;\n",
              "    }\n",
              "\n",
              "    .dataframe thead th {\n",
              "        text-align: right;\n",
              "    }\n",
              "</style>\n",
              "<table border=\"1\" class=\"dataframe\">\n",
              "  <thead>\n",
              "    <tr style=\"text-align: right;\">\n",
              "      <th></th>\n",
              "      <th>Unnamed: 0</th>\n",
              "      <th>Make</th>\n",
              "      <th>Model</th>\n",
              "      <th>Variant</th>\n",
              "      <th>Ex-Showroom_Price</th>\n",
              "      <th>Displacement</th>\n",
              "      <th>Cylinders</th>\n",
              "      <th>Valves_Per_Cylinder</th>\n",
              "      <th>Drivetrain</th>\n",
              "      <th>Cylinder_Configuration</th>\n",
              "      <th>...</th>\n",
              "      <th>USB_Compatibility</th>\n",
              "      <th>Android_Auto</th>\n",
              "      <th>Apple_CarPlay</th>\n",
              "      <th>Unnamed: 112</th>\n",
              "      <th>Infotainment_Screen</th>\n",
              "      <th>Multifunction_Steering_Wheel</th>\n",
              "      <th>Average_Speed</th>\n",
              "      <th>EBA_(Electronic_Brake_Assist)</th>\n",
              "      <th>Seat_Height_Adjustment</th>\n",
              "      <th>Navigation_System</th>\n",
              "    </tr>\n",
              "  </thead>\n",
              "  <tbody>\n",
              "    <tr>\n",
              "      <th>239</th>\n",
              "      <td>239</td>\n",
              "      <td>Mahindra</td>\n",
              "      <td>Alturas G4</td>\n",
              "      <td>2Wd At</td>\n",
              "      <td>2770150</td>\n",
              "      <td>2157 cc</td>\n",
              "      <td>4.0</td>\n",
              "      <td>NaN</td>\n",
              "      <td>FWD (Front Wheel Drive)</td>\n",
              "      <td>In-line</td>\n",
              "      <td>...</td>\n",
              "      <td>Yes</td>\n",
              "      <td>NaN</td>\n",
              "      <td>NaN</td>\n",
              "      <td>NaN</td>\n",
              "      <td>Touch Sensitive</td>\n",
              "      <td>Multifunction Steering Wheel</td>\n",
              "      <td>Yes</td>\n",
              "      <td>Yes</td>\n",
              "      <td>Electric Adjustment with Memory</td>\n",
              "      <td>Yes</td>\n",
              "    </tr>\n",
              "    <tr>\n",
              "      <th>1162</th>\n",
              "      <td>1162</td>\n",
              "      <td>Jaguar</td>\n",
              "      <td>F-Type</td>\n",
              "      <td>5.0 Convertible R</td>\n",
              "      <td>23659454</td>\n",
              "      <td>5000 cc</td>\n",
              "      <td>NaN</td>\n",
              "      <td>NaN</td>\n",
              "      <td>NaN</td>\n",
              "      <td>NaN</td>\n",
              "      <td>...</td>\n",
              "      <td>NaN</td>\n",
              "      <td>NaN</td>\n",
              "      <td>NaN</td>\n",
              "      <td>NaN</td>\n",
              "      <td>NaN</td>\n",
              "      <td>Multifunction Steering Wheel</td>\n",
              "      <td>NaN</td>\n",
              "      <td>NaN</td>\n",
              "      <td>NaN</td>\n",
              "      <td>Yes</td>\n",
              "    </tr>\n",
              "    <tr>\n",
              "      <th>1253</th>\n",
              "      <td>1253</td>\n",
              "      <td>Porsche</td>\n",
              "      <td>Cayenne Coupe</td>\n",
              "      <td>Base</td>\n",
              "      <td>13151000</td>\n",
              "      <td>2995 cc</td>\n",
              "      <td>6.0</td>\n",
              "      <td>4.0</td>\n",
              "      <td>AWD (All Wheel Drive)</td>\n",
              "      <td>V</td>\n",
              "      <td>...</td>\n",
              "      <td>Yes</td>\n",
              "      <td>Yes</td>\n",
              "      <td>Yes</td>\n",
              "      <td>NaN</td>\n",
              "      <td>Touch Sensitive</td>\n",
              "      <td>With gear shift paddles</td>\n",
              "      <td>Yes</td>\n",
              "      <td>Yes</td>\n",
              "      <td>Electric Adjustment with Memory</td>\n",
              "      <td>Yes</td>\n",
              "    </tr>\n",
              "  </tbody>\n",
              "</table>\n",
              "<p>3 rows × 113 columns</p>\n",
              "</div>\n",
              "      <button class=\"colab-df-convert\" onclick=\"convertToInteractive('df-ea27b146-61a4-4bac-96ab-f30d213f6354')\"\n",
              "              title=\"Convert this dataframe to an interactive table.\"\n",
              "              style=\"display:none;\">\n",
              "        \n",
              "  <svg xmlns=\"http://www.w3.org/2000/svg\" height=\"24px\"viewBox=\"0 0 24 24\"\n",
              "       width=\"24px\">\n",
              "    <path d=\"M0 0h24v24H0V0z\" fill=\"none\"/>\n",
              "    <path d=\"M18.56 5.44l.94 2.06.94-2.06 2.06-.94-2.06-.94-.94-2.06-.94 2.06-2.06.94zm-11 1L8.5 8.5l.94-2.06 2.06-.94-2.06-.94L8.5 2.5l-.94 2.06-2.06.94zm10 10l.94 2.06.94-2.06 2.06-.94-2.06-.94-.94-2.06-.94 2.06-2.06.94z\"/><path d=\"M17.41 7.96l-1.37-1.37c-.4-.4-.92-.59-1.43-.59-.52 0-1.04.2-1.43.59L10.3 9.45l-7.72 7.72c-.78.78-.78 2.05 0 2.83L4 21.41c.39.39.9.59 1.41.59.51 0 1.02-.2 1.41-.59l7.78-7.78 2.81-2.81c.8-.78.8-2.07 0-2.86zM5.41 20L4 18.59l7.72-7.72 1.47 1.35L5.41 20z\"/>\n",
              "  </svg>\n",
              "      </button>\n",
              "      \n",
              "  <style>\n",
              "    .colab-df-container {\n",
              "      display:flex;\n",
              "      flex-wrap:wrap;\n",
              "      gap: 12px;\n",
              "    }\n",
              "\n",
              "    .colab-df-convert {\n",
              "      background-color: #E8F0FE;\n",
              "      border: none;\n",
              "      border-radius: 50%;\n",
              "      cursor: pointer;\n",
              "      display: none;\n",
              "      fill: #1967D2;\n",
              "      height: 32px;\n",
              "      padding: 0 0 0 0;\n",
              "      width: 32px;\n",
              "    }\n",
              "\n",
              "    .colab-df-convert:hover {\n",
              "      background-color: #E2EBFA;\n",
              "      box-shadow: 0px 1px 2px rgba(60, 64, 67, 0.3), 0px 1px 3px 1px rgba(60, 64, 67, 0.15);\n",
              "      fill: #174EA6;\n",
              "    }\n",
              "\n",
              "    [theme=dark] .colab-df-convert {\n",
              "      background-color: #3B4455;\n",
              "      fill: #D2E3FC;\n",
              "    }\n",
              "\n",
              "    [theme=dark] .colab-df-convert:hover {\n",
              "      background-color: #434B5C;\n",
              "      box-shadow: 0px 1px 3px 1px rgba(0, 0, 0, 0.15);\n",
              "      filter: drop-shadow(0px 1px 2px rgba(0, 0, 0, 0.3));\n",
              "      fill: #FFFFFF;\n",
              "    }\n",
              "  </style>\n",
              "\n",
              "      <script>\n",
              "        const buttonEl =\n",
              "          document.querySelector('#df-ea27b146-61a4-4bac-96ab-f30d213f6354 button.colab-df-convert');\n",
              "        buttonEl.style.display =\n",
              "          google.colab.kernel.accessAllowed ? 'block' : 'none';\n",
              "\n",
              "        async function convertToInteractive(key) {\n",
              "          const element = document.querySelector('#df-ea27b146-61a4-4bac-96ab-f30d213f6354');\n",
              "          const dataTable =\n",
              "            await google.colab.kernel.invokeFunction('convertToInteractive',\n",
              "                                                     [key], {});\n",
              "          if (!dataTable) return;\n",
              "\n",
              "          const docLinkHtml = 'Like what you see? Visit the ' +\n",
              "            '<a target=\"_blank\" href=https://colab.research.google.com/notebooks/data_table.ipynb>data table notebook</a>'\n",
              "            + ' to learn more about interactive tables.';\n",
              "          element.innerHTML = '';\n",
              "          dataTable['output_type'] = 'display_data';\n",
              "          await google.colab.output.renderOutput(dataTable, element);\n",
              "          const docLink = document.createElement('div');\n",
              "          docLink.innerHTML = docLinkHtml;\n",
              "          element.appendChild(docLink);\n",
              "        }\n",
              "      </script>\n",
              "    </div>\n",
              "  </div>\n",
              "  "
            ]
          },
          "metadata": {},
          "execution_count": 13
        },
        {
          "output_type": "stream",
          "name": "stdout",
          "text": [
            "Warning: Total number of columns (113) exceeds max_columns (20) limiting to first (20) columns.\n"
          ]
        }
      ]
    },
    {
      "cell_type": "code",
      "source": [
        "# Filling the rows with the mean of the column\n",
        "val = car['Seating_Capacity'].mean()\n",
        "car['Seating_Capacity'][239] = round(val)\n",
        "\n",
        "val = car['Seating_Capacity'].mean()\n",
        "car['Seating_Capacity'][1162]= round(val)\n",
        "\n",
        "val = car['Seating_Capacity'].mean()\n",
        "car['Seating_Capacity'][1253]= round(val)"
      ],
      "metadata": {
        "colab": {
          "base_uri": "https://localhost:8080/"
        },
        "id": "dUtZhge-SMRs",
        "outputId": "c54ccf2b-89ad-4a83-a953-494ae0146674"
      },
      "execution_count": null,
      "outputs": [
        {
          "output_type": "stream",
          "name": "stderr",
          "text": [
            "/usr/local/lib/python3.7/dist-packages/ipykernel_launcher.py:3: SettingWithCopyWarning: \n",
            "A value is trying to be set on a copy of a slice from a DataFrame\n",
            "\n",
            "See the caveats in the documentation: https://pandas.pydata.org/pandas-docs/stable/user_guide/indexing.html#returning-a-view-versus-a-copy\n",
            "  This is separate from the ipykernel package so we can avoid doing imports until\n",
            "/usr/local/lib/python3.7/dist-packages/ipykernel_launcher.py:6: SettingWithCopyWarning: \n",
            "A value is trying to be set on a copy of a slice from a DataFrame\n",
            "\n",
            "See the caveats in the documentation: https://pandas.pydata.org/pandas-docs/stable/user_guide/indexing.html#returning-a-view-versus-a-copy\n",
            "  \n",
            "/usr/local/lib/python3.7/dist-packages/ipykernel_launcher.py:9: SettingWithCopyWarning: \n",
            "A value is trying to be set on a copy of a slice from a DataFrame\n",
            "\n",
            "See the caveats in the documentation: https://pandas.pydata.org/pandas-docs/stable/user_guide/indexing.html#returning-a-view-versus-a-copy\n",
            "  if __name__ == '__main__':\n"
          ]
        }
      ]
    },
    {
      "cell_type": "code",
      "source": [
        "#Changing the data type of the column from float to int\n",
        "car['Seating_Capacity'].astype(int)"
      ],
      "metadata": {
        "colab": {
          "base_uri": "https://localhost:8080/"
        },
        "id": "GbkJOZrbeYe5",
        "outputId": "8d44d772-1155-43c5-b1ab-615b8b3c2177"
      },
      "execution_count": null,
      "outputs": [
        {
          "output_type": "execute_result",
          "data": {
            "text/plain": [
              "0       4\n",
              "6       5\n",
              "12      5\n",
              "24      5\n",
              "29      5\n",
              "       ..\n",
              "1255    5\n",
              "1258    7\n",
              "1263    4\n",
              "1265    5\n",
              "1275    7\n",
              "Name: Seating_Capacity, Length: 263, dtype: int64"
            ]
          },
          "metadata": {},
          "execution_count": 16
        }
      ]
    },
    {
      "cell_type": "code",
      "source": [
        "car.describe()"
      ],
      "metadata": {
        "colab": {
          "base_uri": "https://localhost:8080/",
          "height": 300
        },
        "id": "p-ESQts068XP",
        "outputId": "6a0651ba-b810-4989-82dd-f6fff7ea4cd6"
      },
      "execution_count": null,
      "outputs": [
        {
          "output_type": "execute_result",
          "data": {
            "text/plain": [
              "        Unnamed: 0  Ex-Showroom_Price  Cylinders  Valves_Per_Cylinder  \\\n",
              "count   263.000000       2.630000e+02  248.00000           239.000000   \n",
              "mean    652.262357       9.443901e+06    5.03629             4.117155   \n",
              "std     369.819767       1.852458e+07    2.36427             1.213924   \n",
              "min       0.000000       2.630000e+05    2.00000             1.000000   \n",
              "25%     312.500000       7.899565e+05    4.00000             4.000000   \n",
              "50%     687.000000       2.903750e+06    4.00000             4.000000   \n",
              "75%     993.000000       8.325000e+06    6.00000             4.000000   \n",
              "max    1275.000000       1.921429e+08   16.00000            16.000000   \n",
              "\n",
              "            Doors  Seating_Capacity  Number_of_Airbags  Unnamed: 112  \n",
              "count  261.000000        263.000000         220.000000           0.0  \n",
              "mean     4.256705          5.057034           4.945455           NaN  \n",
              "std      1.018673          1.406290           2.785600           NaN  \n",
              "min      2.000000          2.000000           1.000000           NaN  \n",
              "25%      4.000000          5.000000           2.000000           NaN  \n",
              "50%      5.000000          5.000000           6.000000           NaN  \n",
              "75%      5.000000          5.000000           7.000000           NaN  \n",
              "max      5.000000         16.000000          14.000000           NaN  "
            ],
            "text/html": [
              "\n",
              "  <div id=\"df-75563fc0-4f4c-45c3-955a-fd4aeffd324a\">\n",
              "    <div class=\"colab-df-container\">\n",
              "      <div>\n",
              "<style scoped>\n",
              "    .dataframe tbody tr th:only-of-type {\n",
              "        vertical-align: middle;\n",
              "    }\n",
              "\n",
              "    .dataframe tbody tr th {\n",
              "        vertical-align: top;\n",
              "    }\n",
              "\n",
              "    .dataframe thead th {\n",
              "        text-align: right;\n",
              "    }\n",
              "</style>\n",
              "<table border=\"1\" class=\"dataframe\">\n",
              "  <thead>\n",
              "    <tr style=\"text-align: right;\">\n",
              "      <th></th>\n",
              "      <th>Unnamed: 0</th>\n",
              "      <th>Ex-Showroom_Price</th>\n",
              "      <th>Cylinders</th>\n",
              "      <th>Valves_Per_Cylinder</th>\n",
              "      <th>Doors</th>\n",
              "      <th>Seating_Capacity</th>\n",
              "      <th>Number_of_Airbags</th>\n",
              "      <th>Unnamed: 112</th>\n",
              "    </tr>\n",
              "  </thead>\n",
              "  <tbody>\n",
              "    <tr>\n",
              "      <th>count</th>\n",
              "      <td>263.000000</td>\n",
              "      <td>2.630000e+02</td>\n",
              "      <td>248.00000</td>\n",
              "      <td>239.000000</td>\n",
              "      <td>261.000000</td>\n",
              "      <td>263.000000</td>\n",
              "      <td>220.000000</td>\n",
              "      <td>0.0</td>\n",
              "    </tr>\n",
              "    <tr>\n",
              "      <th>mean</th>\n",
              "      <td>652.262357</td>\n",
              "      <td>9.443901e+06</td>\n",
              "      <td>5.03629</td>\n",
              "      <td>4.117155</td>\n",
              "      <td>4.256705</td>\n",
              "      <td>5.057034</td>\n",
              "      <td>4.945455</td>\n",
              "      <td>NaN</td>\n",
              "    </tr>\n",
              "    <tr>\n",
              "      <th>std</th>\n",
              "      <td>369.819767</td>\n",
              "      <td>1.852458e+07</td>\n",
              "      <td>2.36427</td>\n",
              "      <td>1.213924</td>\n",
              "      <td>1.018673</td>\n",
              "      <td>1.406290</td>\n",
              "      <td>2.785600</td>\n",
              "      <td>NaN</td>\n",
              "    </tr>\n",
              "    <tr>\n",
              "      <th>min</th>\n",
              "      <td>0.000000</td>\n",
              "      <td>2.630000e+05</td>\n",
              "      <td>2.00000</td>\n",
              "      <td>1.000000</td>\n",
              "      <td>2.000000</td>\n",
              "      <td>2.000000</td>\n",
              "      <td>1.000000</td>\n",
              "      <td>NaN</td>\n",
              "    </tr>\n",
              "    <tr>\n",
              "      <th>25%</th>\n",
              "      <td>312.500000</td>\n",
              "      <td>7.899565e+05</td>\n",
              "      <td>4.00000</td>\n",
              "      <td>4.000000</td>\n",
              "      <td>4.000000</td>\n",
              "      <td>5.000000</td>\n",
              "      <td>2.000000</td>\n",
              "      <td>NaN</td>\n",
              "    </tr>\n",
              "    <tr>\n",
              "      <th>50%</th>\n",
              "      <td>687.000000</td>\n",
              "      <td>2.903750e+06</td>\n",
              "      <td>4.00000</td>\n",
              "      <td>4.000000</td>\n",
              "      <td>5.000000</td>\n",
              "      <td>5.000000</td>\n",
              "      <td>6.000000</td>\n",
              "      <td>NaN</td>\n",
              "    </tr>\n",
              "    <tr>\n",
              "      <th>75%</th>\n",
              "      <td>993.000000</td>\n",
              "      <td>8.325000e+06</td>\n",
              "      <td>6.00000</td>\n",
              "      <td>4.000000</td>\n",
              "      <td>5.000000</td>\n",
              "      <td>5.000000</td>\n",
              "      <td>7.000000</td>\n",
              "      <td>NaN</td>\n",
              "    </tr>\n",
              "    <tr>\n",
              "      <th>max</th>\n",
              "      <td>1275.000000</td>\n",
              "      <td>1.921429e+08</td>\n",
              "      <td>16.00000</td>\n",
              "      <td>16.000000</td>\n",
              "      <td>5.000000</td>\n",
              "      <td>16.000000</td>\n",
              "      <td>14.000000</td>\n",
              "      <td>NaN</td>\n",
              "    </tr>\n",
              "  </tbody>\n",
              "</table>\n",
              "</div>\n",
              "      <button class=\"colab-df-convert\" onclick=\"convertToInteractive('df-75563fc0-4f4c-45c3-955a-fd4aeffd324a')\"\n",
              "              title=\"Convert this dataframe to an interactive table.\"\n",
              "              style=\"display:none;\">\n",
              "        \n",
              "  <svg xmlns=\"http://www.w3.org/2000/svg\" height=\"24px\"viewBox=\"0 0 24 24\"\n",
              "       width=\"24px\">\n",
              "    <path d=\"M0 0h24v24H0V0z\" fill=\"none\"/>\n",
              "    <path d=\"M18.56 5.44l.94 2.06.94-2.06 2.06-.94-2.06-.94-.94-2.06-.94 2.06-2.06.94zm-11 1L8.5 8.5l.94-2.06 2.06-.94-2.06-.94L8.5 2.5l-.94 2.06-2.06.94zm10 10l.94 2.06.94-2.06 2.06-.94-2.06-.94-.94-2.06-.94 2.06-2.06.94z\"/><path d=\"M17.41 7.96l-1.37-1.37c-.4-.4-.92-.59-1.43-.59-.52 0-1.04.2-1.43.59L10.3 9.45l-7.72 7.72c-.78.78-.78 2.05 0 2.83L4 21.41c.39.39.9.59 1.41.59.51 0 1.02-.2 1.41-.59l7.78-7.78 2.81-2.81c.8-.78.8-2.07 0-2.86zM5.41 20L4 18.59l7.72-7.72 1.47 1.35L5.41 20z\"/>\n",
              "  </svg>\n",
              "      </button>\n",
              "      \n",
              "  <style>\n",
              "    .colab-df-container {\n",
              "      display:flex;\n",
              "      flex-wrap:wrap;\n",
              "      gap: 12px;\n",
              "    }\n",
              "\n",
              "    .colab-df-convert {\n",
              "      background-color: #E8F0FE;\n",
              "      border: none;\n",
              "      border-radius: 50%;\n",
              "      cursor: pointer;\n",
              "      display: none;\n",
              "      fill: #1967D2;\n",
              "      height: 32px;\n",
              "      padding: 0 0 0 0;\n",
              "      width: 32px;\n",
              "    }\n",
              "\n",
              "    .colab-df-convert:hover {\n",
              "      background-color: #E2EBFA;\n",
              "      box-shadow: 0px 1px 2px rgba(60, 64, 67, 0.3), 0px 1px 3px 1px rgba(60, 64, 67, 0.15);\n",
              "      fill: #174EA6;\n",
              "    }\n",
              "\n",
              "    [theme=dark] .colab-df-convert {\n",
              "      background-color: #3B4455;\n",
              "      fill: #D2E3FC;\n",
              "    }\n",
              "\n",
              "    [theme=dark] .colab-df-convert:hover {\n",
              "      background-color: #434B5C;\n",
              "      box-shadow: 0px 1px 3px 1px rgba(0, 0, 0, 0.15);\n",
              "      filter: drop-shadow(0px 1px 2px rgba(0, 0, 0, 0.3));\n",
              "      fill: #FFFFFF;\n",
              "    }\n",
              "  </style>\n",
              "\n",
              "      <script>\n",
              "        const buttonEl =\n",
              "          document.querySelector('#df-75563fc0-4f4c-45c3-955a-fd4aeffd324a button.colab-df-convert');\n",
              "        buttonEl.style.display =\n",
              "          google.colab.kernel.accessAllowed ? 'block' : 'none';\n",
              "\n",
              "        async function convertToInteractive(key) {\n",
              "          const element = document.querySelector('#df-75563fc0-4f4c-45c3-955a-fd4aeffd324a');\n",
              "          const dataTable =\n",
              "            await google.colab.kernel.invokeFunction('convertToInteractive',\n",
              "                                                     [key], {});\n",
              "          if (!dataTable) return;\n",
              "\n",
              "          const docLinkHtml = 'Like what you see? Visit the ' +\n",
              "            '<a target=\"_blank\" href=https://colab.research.google.com/notebooks/data_table.ipynb>data table notebook</a>'\n",
              "            + ' to learn more about interactive tables.';\n",
              "          element.innerHTML = '';\n",
              "          dataTable['output_type'] = 'display_data';\n",
              "          await google.colab.output.renderOutput(dataTable, element);\n",
              "          const docLink = document.createElement('div');\n",
              "          docLink.innerHTML = docLinkHtml;\n",
              "          element.appendChild(docLink);\n",
              "        }\n",
              "      </script>\n",
              "    </div>\n",
              "  </div>\n",
              "  "
            ]
          },
          "metadata": {},
          "execution_count": 93
        }
      ]
    },
    {
      "cell_type": "markdown",
      "source": [
        "**OUTLIERS**\n",
        "\n",
        "75% of the cars are less than 83 lakhs.So the remaining 25% are considered to be the outliers"
      ],
      "metadata": {
        "id": "gANcbWyV7SpM"
      }
    },
    {
      "cell_type": "code",
      "source": [
        "# Removing Outliers\n",
        "car=car[car[\"Ex-Showroom_Price\"]<1e7].reset_index(drop=True)"
      ],
      "metadata": {
        "id": "4mi9-BR87OSe"
      },
      "execution_count": null,
      "outputs": []
    },
    {
      "cell_type": "code",
      "source": [
        "#Storing the cleaned dataset\n",
        "car.to_csv(\"Cleaned car.csv\")"
      ],
      "metadata": {
        "id": "gKWwET0q9zJY"
      },
      "execution_count": null,
      "outputs": []
    },
    {
      "cell_type": "markdown",
      "source": [
        "**MODEL**"
      ],
      "metadata": {
        "id": "lhIzQKis-JW0"
      }
    },
    {
      "cell_type": "code",
      "source": [
        "x=car[['Make','Seating_Capacity','Fuel_Type']]\n",
        "y=car['Ex-Showroom_Price']"
      ],
      "metadata": {
        "id": "W6bUL_ek-JCb"
      },
      "execution_count": null,
      "outputs": []
    },
    {
      "cell_type": "code",
      "source": [
        "from sklearn.model_selection import train_test_split\n",
        "x_train,x_test,y_train,y_test = train_test_split(x,y,test_size=0.2)"
      ],
      "metadata": {
        "id": "FGJfqMERAOMQ"
      },
      "execution_count": null,
      "outputs": []
    },
    {
      "cell_type": "code",
      "source": [
        "from sklearn.linear_model import LinearRegression\n",
        "from sklearn.metrics import r2_score\n",
        "from sklearn.preprocessing import OneHotEncoder\n",
        "from sklearn.compose import make_column_transformer\n",
        "from sklearn.pipeline import make_pipeline"
      ],
      "metadata": {
        "id": "7tJInQAtAtVp"
      },
      "execution_count": null,
      "outputs": []
    },
    {
      "cell_type": "code",
      "source": [
        "ohe = OneHotEncoder(handle_unknown=\"ignore\")\n",
        "ohe.fit(x)\n",
        "ohe.categories_"
      ],
      "metadata": {
        "colab": {
          "base_uri": "https://localhost:8080/"
        },
        "id": "EQen5l-cBFWK",
        "outputId": "7d2012c2-40b2-4c12-dd2f-1868f06068ae"
      },
      "execution_count": null,
      "outputs": [
        {
          "output_type": "execute_result",
          "data": {
            "text/plain": [
              "[array(['Audi', 'Bajaj', 'Bmw', 'Datsun', 'Dc', 'Fiat', 'Force', 'Ford',\n",
              "        'Go+', 'Honda', 'Hyundai', 'Icml', 'Isuzu', 'Jaguar', 'Jeep',\n",
              "        'Kia', 'Land Rover', 'Land Rover Rover', 'Lexus', 'Mahindra',\n",
              "        'Maruti Suzuki', 'Maruti Suzuki R', 'Mercedes-Benz A-Class',\n",
              "        'Mercedes-Benz B-Class', 'Mercedes-Benz C-Class',\n",
              "        'Mercedes-Benz C-Class Cabriolet', 'Mercedes-Benz Cla-Class',\n",
              "        'Mercedes-Benz Cls', 'Mercedes-Benz E-Class',\n",
              "        'Mercedes-Benz E-Class All Terrain',\n",
              "        'Mercedes-Benz E-Class Cabriolet', 'Mercedes-Benz Gla-Class',\n",
              "        'Mercedes-Benz Glc', 'Mercedes-Benz Gle', 'Mercedes-Benz Gls',\n",
              "        'Mercedes-Benz V-Class', 'Mg', 'Mini', 'Mitsubishi', 'Nissan',\n",
              "        'Porsche', 'Premier', 'Renault', 'Skoda', 'Tata', 'Toyota',\n",
              "        'Volkswagen', 'Volvo'], dtype=object),\n",
              " array([ 2.,  4.,  5.,  6.,  7.,  8.,  9., 16.]),\n",
              " array(['CNG + Petrol', 'Diesel', 'Electric', 'Hybrid', 'Petrol'],\n",
              "       dtype=object)]"
            ]
          },
          "metadata": {},
          "execution_count": 92
        }
      ]
    },
    {
      "cell_type": "code",
      "source": [
        "column_trans = make_column_transformer((OneHotEncoder(categories=ohe.categories_),['Make','Seating_Capacity','Fuel_Type']))"
      ],
      "metadata": {
        "id": "e6UmikwkG2ow"
      },
      "execution_count": null,
      "outputs": []
    },
    {
      "cell_type": "code",
      "source": [
        "lr = LinearRegression()"
      ],
      "metadata": {
        "id": "P-AYRia_HNEY"
      },
      "execution_count": null,
      "outputs": []
    },
    {
      "cell_type": "code",
      "source": [
        "pipe = make_pipeline(column_trans,lr)\n",
        "pipe.fit(x_train,y_train)"
      ],
      "metadata": {
        "colab": {
          "base_uri": "https://localhost:8080/"
        },
        "id": "DIu2gpYMHR0E",
        "outputId": "c1ba39b8-0533-4bab-d3c4-486d9fbbb4b4"
      },
      "execution_count": null,
      "outputs": [
        {
          "output_type": "execute_result",
          "data": {
            "text/plain": [
              "Pipeline(steps=[('columntransformer',\n",
              "                 ColumnTransformer(transformers=[('onehotencoder',\n",
              "                                                  OneHotEncoder(categories=[array(['Audi', 'Bajaj', 'Bmw', 'Datsun', 'Dc', 'Fiat', 'Force', 'Ford',\n",
              "       'Go+', 'Honda', 'Hyundai', 'Icml', 'Isuzu', 'Jaguar', 'Jeep',\n",
              "       'Kia', 'Land Rover', 'Land Rover Rover', 'Lexus', 'Mahindra',\n",
              "       'Maruti Suzuki', 'Maruti Suzuki R', 'Mercedes-Benz A-Class',\n",
              "       'Mercedes-B...\n",
              "       'Mercedes-Benz Glc', 'Mercedes-Benz Gle', 'Mercedes-Benz Gls',\n",
              "       'Mercedes-Benz V-Class', 'Mg', 'Mini', 'Mitsubishi', 'Nissan',\n",
              "       'Porsche', 'Premier', 'Renault', 'Skoda', 'Tata', 'Toyota',\n",
              "       'Volkswagen', 'Volvo'], dtype=object),\n",
              "                                                                            array([ 2.,  4.,  5.,  6.,  7.,  8.,  9., 16.]),\n",
              "                                                                            array(['CNG + Petrol', 'Diesel', 'Electric', 'Hybrid', 'Petrol'],\n",
              "      dtype=object)]),\n",
              "                                                  ['Make', 'Seating_Capacity',\n",
              "                                                   'Fuel_Type'])])),\n",
              "                ('linearregression', LinearRegression())])"
            ]
          },
          "metadata": {},
          "execution_count": 96
        }
      ]
    },
    {
      "cell_type": "code",
      "source": [
        "y_pred = pipe.predict(x_test)"
      ],
      "metadata": {
        "id": "D5VcpWK7JC-f"
      },
      "execution_count": null,
      "outputs": []
    },
    {
      "cell_type": "code",
      "source": [
        "import pickle"
      ],
      "metadata": {
        "id": "8MJIDuSrJmFI"
      },
      "execution_count": null,
      "outputs": []
    },
    {
      "cell_type": "code",
      "source": [
        "pickle.dump(pipe,open(\"LinearRegressionModel.pkl\",'wb'))"
      ],
      "metadata": {
        "id": "LWCOlgOILH8B"
      },
      "execution_count": null,
      "outputs": []
    },
    {
      "cell_type": "code",
      "source": [
        "pipe.predict(pd.DataFrame([['Tata',7,'Petrol']],columns=['Make','Seating_Capacity','Fuel_Type']))\n"
      ],
      "metadata": {
        "colab": {
          "base_uri": "https://localhost:8080/"
        },
        "id": "tNDPcep-LbYX",
        "outputId": "1faa2d40-4308-456d-f286-97d2bfe33861"
      },
      "execution_count": null,
      "outputs": [
        {
          "output_type": "execute_result",
          "data": {
            "text/plain": [
              "array([1434155.42454758])"
            ]
          },
          "metadata": {},
          "execution_count": 100
        }
      ]
    },
    {
      "cell_type": "code",
      "source": [
        "plt_1 = plt.figure(figsize=(70, 10))\n",
        "plt.scatter(car[\"Make\"], car[\"Ex-Showroom_Price\"])\n",
        "plt.show()\n",
        "plt.savefig(\"Plot.png\")"
      ],
      "metadata": {
        "colab": {
          "base_uri": "https://localhost:8080/",
          "height": 639
        },
        "id": "__aBTAqeFY2n",
        "outputId": "0077b8a4-ac92-4cbb-a1f7-b3675822fd73"
      },
      "execution_count": null,
      "outputs": [
        {
          "output_type": "display_data",
          "data": {
            "text/plain": [
              "<Figure size 5040x720 with 1 Axes>"
            ],
            "image/png": "[encoded data removed]"
          },
          "metadata": {
            "needs_background": "light"
          }
        },
        {
          "output_type": "display_data",
          "data": {
            "text/plain": [
              "<Figure size 432x288 with 0 Axes>"
            ]
          },
          "metadata": {}
        }
      ]
    }
  ]
}